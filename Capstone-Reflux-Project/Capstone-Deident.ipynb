{
 "cells": [
  {
   "cell_type": "code",
   "execution_count": 1,
   "metadata": {},
   "outputs": [],
   "source": [
    "import pandas as pd \n",
    "import numpy as np\n",
    "import glob\n",
    "import os\n",
    "import re\n",
    "import plotly.express as px\n",
    "import plotly.graph_objects as go\n",
    "import matplotlib.pyplot as plt \n",
    "from matplotlib.pyplot import figure\n",
    "from datetime import datetime, timedelta\n",
    "import seaborn as sns\n",
    "from ipywidgets import interact\n",
    "from sklearn.model_selection import train_test_split\n",
    "from sklearn.ensemble import RandomForestClassifier\n",
    "from sklearn import metrics\n",
    "from sklearn.metrics import f1_score\n",
    "from sklearn.metrics import confusion_matrix\n",
    "from sklearn.metrics import classification_report\n",
    "%matplotlib inline"
   ]
  },
  {
   "cell_type": "raw",
   "metadata": {},
   "source": [
    "path = 'Barretts_Analysis/'\n",
    "next_path = glob.glob(path + \"*\")\n",
    "\n",
    "li = []\n",
    "\n",
    "for some_path in next_path: \n",
    "    #print(some_path) \n",
    "    if some_path == 'Barretts_Analysis/AI': \n",
    "        continue\n",
    "    else: \n",
    "        for file in glob.glob(some_path + \"/*.csv\"):\n",
    "            #print(file)\n",
    "            df = pd.read_csv(file, index_col=None, header=0, skiprows = 7).fillna('-')\n",
    "            header = df.iloc[0]\n",
    "            header = header.str.replace('\\n', ' ')\n",
    "            df = df.rename(columns = header)\n",
    "            df = df[1:]\n",
    "            df = df.drop(columns = ['Position from LES (cm)', 'pH Delta (pH)','ACT (sec)'])\n",
    "            df = df[df[\"Meas Type\"].str.contains(\"MII\")]\n",
    "            #df = df[df[\"Meas Type\"] != 'No Reflux']\n",
    "            #df['patient_number'] = file.replace('/', ' ')\n",
    "            df['z_filename'] = file.replace(' ', '-')\n",
    "            #df['z_filename'] = df['z_filename'].dropna()\n",
    "            li.append(df)\n",
    "        \n",
    "frame = pd.concat(li, axis=0, ignore_index=True)"
   ]
  },
  {
   "cell_type": "raw",
   "metadata": {},
   "source": [
    "# Make timestamp column\n",
    "frame['Meas Start TimeStamp'] = pd.to_datetime(frame['Meas Start Time'])\n",
    "\n",
    "frame['3_second_shift'] = frame['Meas Start TimeStamp'] + timedelta(seconds = -7.5)\n",
    "frame['7_second_shift_forward'] = frame['Meas Start TimeStamp'] + timedelta(seconds = 7.5)\n",
    "\n",
    "new_frame = frame.groupby('doctor')"
   ]
  },
  {
   "cell_type": "raw",
   "metadata": {},
   "source": [
    "%%time\n",
    "filtered_rows = pd.DataFrame([])\n",
    "for k in new_frame.groups.keys():\n",
    "    data = new_frame.get_group(k)\n",
    "    for x, y in data.iterrows():\n",
    "        if y['MII Reflux'] =='Reflux':\n",
    "            the_only_hope = data[(data['Meas Start TimeStamp'] > y['3_second_shift'])&\n",
    "                              (data['Meas Start TimeStamp'] < y['7_second_shift_forward'])]\n",
    "        else: \n",
    "            continue\n",
    "    filtered_rows = filtered_rows.append(the_only_hope)"
   ]
  },
  {
   "cell_type": "raw",
   "metadata": {},
   "source": [
    "frame['Measurement'] = 1\n",
    "\n",
    "def labeler_v2(df):\n",
    "\n",
    "    for index, row in df.iterrows():\n",
    "        if index == 0:\n",
    "            continue\n",
    "        if (df['shifted'].iloc[index] < df['7_second_shift_forward'].iloc[index]) and \\\n",
    "        (df['shifted'].iloc[index] > df['3_second_shift'].iloc[index]):\n",
    "            df['Measurement'].iloc[index] = df['Measurement'].iloc[index -1]\n",
    "            \n",
    "        else:\n",
    "            df['Measurement'].iloc[index] = df['Measurement'].iloc[index -1] + 1\n",
    "    return df"
   ]
  },
  {
   "cell_type": "raw",
   "metadata": {},
   "source": [
    "frame = labeler_v2(frame)"
   ]
  },
  {
   "cell_type": "code",
   "execution_count": 2,
   "metadata": {},
   "outputs": [],
   "source": [
    "just_one = pd.read_csv('data/just_one_deident.csv')"
   ]
  },
  {
   "cell_type": "code",
   "execution_count": 3,
   "metadata": {},
   "outputs": [
    {
     "data": {
      "text/html": [
       "<div>\n",
       "<style scoped>\n",
       "    .dataframe tbody tr th:only-of-type {\n",
       "        vertical-align: middle;\n",
       "    }\n",
       "\n",
       "    .dataframe tbody tr th {\n",
       "        vertical-align: top;\n",
       "    }\n",
       "\n",
       "    .dataframe thead th {\n",
       "        text-align: right;\n",
       "    }\n",
       "</style>\n",
       "<table border=\"1\" class=\"dataframe\">\n",
       "  <thead>\n",
       "    <tr style=\"text-align: right;\">\n",
       "      <th></th>\n",
       "      <th>index</th>\n",
       "      <th>Measurement_No.</th>\n",
       "      <th>Meas_Start_Time</th>\n",
       "      <th>Patient_No.</th>\n",
       "      <th>Doctor_Name</th>\n",
       "      <th>Meas_Start_Day</th>\n",
       "      <th>pH_Classification</th>\n",
       "      <th>MII_Reflux</th>\n",
       "    </tr>\n",
       "  </thead>\n",
       "  <tbody>\n",
       "    <tr>\n",
       "      <td>0</td>\n",
       "      <td>3</td>\n",
       "      <td>2</td>\n",
       "      <td>16:35:31.0</td>\n",
       "      <td>1</td>\n",
       "      <td>B</td>\n",
       "      <td>1</td>\n",
       "      <td>NonAcid</td>\n",
       "      <td>Reflux</td>\n",
       "    </tr>\n",
       "    <tr>\n",
       "      <td>1</td>\n",
       "      <td>10</td>\n",
       "      <td>4</td>\n",
       "      <td>16:46:55.6</td>\n",
       "      <td>1</td>\n",
       "      <td>A</td>\n",
       "      <td>1</td>\n",
       "      <td>Acid</td>\n",
       "      <td>Reflux</td>\n",
       "    </tr>\n",
       "    <tr>\n",
       "      <td>2</td>\n",
       "      <td>20</td>\n",
       "      <td>7</td>\n",
       "      <td>16:57:32.1</td>\n",
       "      <td>1</td>\n",
       "      <td>D</td>\n",
       "      <td>1</td>\n",
       "      <td>Acid</td>\n",
       "      <td>Reflux</td>\n",
       "    </tr>\n",
       "    <tr>\n",
       "      <td>3</td>\n",
       "      <td>42</td>\n",
       "      <td>13</td>\n",
       "      <td>18:53:09.2</td>\n",
       "      <td>1</td>\n",
       "      <td>D</td>\n",
       "      <td>1</td>\n",
       "      <td>Acid</td>\n",
       "      <td>Reflux</td>\n",
       "    </tr>\n",
       "    <tr>\n",
       "      <td>4</td>\n",
       "      <td>48</td>\n",
       "      <td>15</td>\n",
       "      <td>19:04:17.6</td>\n",
       "      <td>1</td>\n",
       "      <td>D</td>\n",
       "      <td>1</td>\n",
       "      <td>Acid</td>\n",
       "      <td>Reflux</td>\n",
       "    </tr>\n",
       "  </tbody>\n",
       "</table>\n",
       "</div>"
      ],
      "text/plain": [
       "   index  Measurement_No. Meas_Start_Time  Patient_No. Doctor_Name  \\\n",
       "0      3                2      16:35:31.0            1           B   \n",
       "1     10                4      16:46:55.6            1           A   \n",
       "2     20                7      16:57:32.1            1           D   \n",
       "3     42               13      18:53:09.2            1           D   \n",
       "4     48               15      19:04:17.6            1           D   \n",
       "\n",
       "   Meas_Start_Day pH_Classification MII_Reflux  \n",
       "0               1           NonAcid     Reflux  \n",
       "1               1              Acid     Reflux  \n",
       "2               1              Acid     Reflux  \n",
       "3               1              Acid     Reflux  \n",
       "4               1              Acid     Reflux  "
      ]
     },
     "execution_count": 3,
     "metadata": {},
     "output_type": "execute_result"
    }
   ],
   "source": [
    "just_one.head()"
   ]
  },
  {
   "cell_type": "code",
   "execution_count": 4,
   "metadata": {},
   "outputs": [
    {
     "data": {
      "application/vnd.jupyter.widget-view+json": {
       "model_id": "2a7d72da5a254e11a81a00ad9340932b",
       "version_major": 2,
       "version_minor": 0
      },
      "text/plain": [
       "interactive(children=(Dropdown(description='Patient', options=(1, 2, 3, 4, 5, 6, 7, 8, 9, 10, 11, 12, 13, 14, …"
      ]
     },
     "metadata": {},
     "output_type": "display_data"
    }
   ],
   "source": [
    "@interact(Patient = just_one['Patient_No.'].unique())\n",
    "\n",
    "def doc_pat_box(Patient): \n",
    "    stuff = just_one.loc[just_one['Patient_No.'] == Patient][['Measurement_No.','Doctor_Name']]\n",
    "    stuff = stuff.sort_values('Measurement_No.')\n",
    "    stuff = stuff['Doctor_Name'].value_counts().reindex(index = ['A', 'B', 'C', 'D', 'E'], fill_value = 0).reset_index()\n",
    "    stuff = stuff.rename(columns = {'index': 'Doctor', 'Doctor_Name':'Measurements'})\n",
    "    \n",
    "    plt.figure(figsize = (10, 6))\n",
    "    ax = sns.barplot(data = stuff, x='Doctor',y='Measurements', palette=\"Set2\")\n",
    "    ax.set_title(\"Measurements Only Made By One Doctor - Patient Number \"+ str(Patient), size = 18)\n",
    "    ax.set_ylabel('Measurements', size = 12)\n",
    "    ax.set_xlabel('Doctor Name', size = 12);\n",
    "\n",
    "  \n",
    "    plt.show()\n",
    "    print(stuff.sort_values(by = 'Measurements', ascending = False))"
   ]
  },
  {
   "cell_type": "code",
   "execution_count": null,
   "metadata": {},
   "outputs": [],
   "source": []
  }
 ],
 "metadata": {
  "kernelspec": {
   "display_name": "Python 3",
   "language": "python",
   "name": "python3"
  },
  "language_info": {
   "codemirror_mode": {
    "name": "ipython",
    "version": 3
   },
   "file_extension": ".py",
   "mimetype": "text/x-python",
   "name": "python",
   "nbconvert_exporter": "python",
   "pygments_lexer": "ipython3",
   "version": "3.7.4"
  }
 },
 "nbformat": 4,
 "nbformat_minor": 2
}
